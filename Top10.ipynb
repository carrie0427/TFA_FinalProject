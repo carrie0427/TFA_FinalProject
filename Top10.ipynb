{
 "cells": [
  {
   "cell_type": "code",
   "execution_count": 5,
   "id": "1556e92c-b83a-4dbd-a6fe-25c7cc215d51",
   "metadata": {},
   "outputs": [],
   "source": [
    "import pandas as pd\n",
    "import csv"
   ]
  },
  {
   "cell_type": "code",
   "execution_count": 6,
   "id": "087cf472-4c8f-4ff8-bcf2-e73de1dea7ec",
   "metadata": {},
   "outputs": [],
   "source": [
    "df = pd.read_csv(\"311_Service_Requests_2020.csv\")"
   ]
  },
  {
   "cell_type": "code",
   "execution_count": 7,
   "id": "3f9b0aed-c914-49fa-9684-a9e442536648",
   "metadata": {},
   "outputs": [],
   "source": [
    "my_zip = df[df[\"Incident Zip\"] == 10036]"
   ]
  },
  {
   "cell_type": "code",
   "execution_count": null,
   "id": "7057aa73",
   "metadata": {},
   "outputs": [],
   "source": [
    "top10 = my_zip[\"Complaint Type\"].value_counts().head(10)\n",
    "top10.name = \"Total number of incidents\"\n",
    "top10.index.name = \"Incident type\""
   ]
  }
 ],
 "metadata": {
  "kernelspec": {
   "display_name": "Python 3 (ipykernel)",
   "language": "python",
   "name": "python3"
  },
  "language_info": {
   "codemirror_mode": {
    "name": "ipython",
    "version": 3
   },
   "file_extension": ".py",
   "mimetype": "text/x-python",
   "name": "python",
   "nbconvert_exporter": "python",
   "pygments_lexer": "ipython3",
   "version": "3.9.7"
  }
 },
 "nbformat": 4,
 "nbformat_minor": 5
}
