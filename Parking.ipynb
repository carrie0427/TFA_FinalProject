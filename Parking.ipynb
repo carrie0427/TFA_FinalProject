{
 "cells": [
  {
   "cell_type": "code",
   "execution_count": 7,
   "id": "cfcdff29-c664-4ce1-b58a-71bd613ac392",
   "metadata": {},
   "outputs": [],
   "source": [
    "import pandas as pd\n",
    "import csv"
   ]
  },
  {
   "cell_type": "code",
   "execution_count": 8,
   "id": "f858e1cc-be11-4e42-bd80-c4280de1aced",
   "metadata": {},
   "outputs": [],
   "source": [
    "df = pd.read_csv(\"311_Service_Requests_2020.csv\")"
   ]
  },
  {
   "cell_type": "code",
   "execution_count": 9,
   "id": "228217af-a77d-4e50-815c-ec072fecca41",
   "metadata": {},
   "outputs": [],
   "source": [
    "my_zip = df[df[\"Incident Zip\"] == 10036]"
   ]
  },
  {
   "cell_type": "code",
   "execution_count": null,
   "id": "28692af5-acbd-47fe-93ff-ceb985dc0dab",
   "metadata": {},
   "outputs": [],
   "source": [
    "total_number_of_parking_incidents_in_my_ZIP = (my_zip[\"Complaint Type\"] == \"Illegal Parking\").sum()\n",
    "total_number_of_all_incidents_in_my_ZIP = len(my_zip)\n",
    "\n",
    "total_number_of_parking_incidents = (df[\"Complaint Type\"] == \"Illegal Parking\").sum()\n",
    "total_number_of_all_incidents = len(df)"
   ]
  },
  {
   "cell_type": "code",
   "execution_count": null,
   "id": "69e199db",
   "metadata": {},
   "outputs": [],
   "source": [
    "parking_proportion_in_my_zip = total_number_of_parking_incidents_in_my_ZIP / total_number_of_all_incidents_in_my_ZIP\n",
    "parking_proportion_of_all = total_number_of_parking_incidents / total_number_of_all_incidents"
   ]
  },
  {
   "cell_type": "code",
   "execution_count": null,
   "id": "98a12b0e",
   "metadata": {},
   "outputs": [],
   "source": [
    "higher_parking_proportion = parking_proportion_in_my_zip > parking_proportion_of_all\n",
    "higher_parking_proportion"
   ]
  }
 ],
 "metadata": {
  "kernelspec": {
   "display_name": "Python 3 (ipykernel)",
   "language": "python",
   "name": "python3"
  },
  "language_info": {
   "codemirror_mode": {
    "name": "ipython",
    "version": 3
   },
   "file_extension": ".py",
   "mimetype": "text/x-python",
   "name": "python",
   "nbconvert_exporter": "python",
   "pygments_lexer": "ipython3",
   "version": "3.9.7"
  }
 },
 "nbformat": 4,
 "nbformat_minor": 5
}
